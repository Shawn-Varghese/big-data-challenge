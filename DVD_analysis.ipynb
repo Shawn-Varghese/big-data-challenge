{
  "cells": [
    {
      "cell_type": "markdown",
      "metadata": {
        "id": "view-in-github",
        "colab_type": "text"
      },
      "source": [
        "<a href=\"https://colab.research.google.com/github/Shawn-Varghese/big-data-challenge/blob/main/DVD_analysis.ipynb\" target=\"_parent\"><img src=\"https://colab.research.google.com/assets/colab-badge.svg\" alt=\"Open In Colab\"/></a>"
      ]
    },
    {
      "cell_type": "code",
      "execution_count": 1,
      "metadata": {
        "colab": {
          "base_uri": "https://localhost:8080/"
        },
        "id": "rFSbhRMiXf2B",
        "outputId": "d673ae02-0fd0-4557-ad2c-174d5eae057f"
      },
      "outputs": [
        {
          "output_type": "stream",
          "name": "stdout",
          "text": [
            "\r0% [Working]\r            \rGet:1 https://cloud.r-project.org/bin/linux/ubuntu bionic-cran40/ InRelease [3,626 B]\n",
            "Get:2 https://developer.download.nvidia.com/compute/cuda/repos/ubuntu1804/x86_64  InRelease [1,581 B]\n",
            "Hit:3 http://archive.ubuntu.com/ubuntu bionic InRelease\n",
            "Get:4 http://security.ubuntu.com/ubuntu bionic-security InRelease [88.7 kB]\n",
            "Get:5 http://ppa.launchpad.net/c2d4u.team/c2d4u4.0+/ubuntu bionic InRelease [15.9 kB]\n",
            "Get:6 http://archive.ubuntu.com/ubuntu bionic-updates InRelease [88.7 kB]\n",
            "Ign:7 https://developer.download.nvidia.com/compute/machine-learning/repos/ubuntu1804/x86_64  InRelease\n",
            "Hit:8 https://developer.download.nvidia.com/compute/machine-learning/repos/ubuntu1804/x86_64  Release\n",
            "Get:9 http://archive.ubuntu.com/ubuntu bionic-backports InRelease [74.6 kB]\n",
            "Hit:10 http://ppa.launchpad.net/cran/libgit2/ubuntu bionic InRelease\n",
            "Get:11 https://developer.download.nvidia.com/compute/cuda/repos/ubuntu1804/x86_64  Packages [787 kB]\n",
            "Get:12 http://ppa.launchpad.net/deadsnakes/ppa/ubuntu bionic InRelease [15.9 kB]\n",
            "Get:13 http://ppa.launchpad.net/graphics-drivers/ppa/ubuntu bionic InRelease [21.3 kB]\n",
            "Get:15 http://ppa.launchpad.net/c2d4u.team/c2d4u4.0+/ubuntu bionic/main Sources [1,990 kB]\n",
            "Get:16 http://archive.ubuntu.com/ubuntu bionic-updates/multiverse amd64 Packages [29.8 kB]\n",
            "Get:17 http://archive.ubuntu.com/ubuntu bionic-updates/restricted amd64 Packages [988 kB]\n",
            "Get:18 http://archive.ubuntu.com/ubuntu bionic-updates/universe amd64 Packages [2,281 kB]\n",
            "Get:19 http://archive.ubuntu.com/ubuntu bionic-updates/main amd64 Packages [3,223 kB]\n",
            "Get:20 http://ppa.launchpad.net/c2d4u.team/c2d4u4.0+/ubuntu bionic/main amd64 Packages [1,021 kB]\n",
            "Get:21 http://security.ubuntu.com/ubuntu bionic-security/universe amd64 Packages [1,507 kB]\n",
            "Get:22 http://security.ubuntu.com/ubuntu bionic-security/multiverse amd64 Packages [22.8 kB]\n",
            "Get:23 http://security.ubuntu.com/ubuntu bionic-security/main amd64 Packages [2,792 kB]\n",
            "Get:24 http://ppa.launchpad.net/deadsnakes/ppa/ubuntu bionic/main amd64 Packages [45.3 kB]\n",
            "Get:25 http://security.ubuntu.com/ubuntu bionic-security/restricted amd64 Packages [954 kB]\n",
            "Get:26 http://ppa.launchpad.net/graphics-drivers/ppa/ubuntu bionic/main amd64 Packages [44.3 kB]\n",
            "Fetched 16.0 MB in 5s (3,189 kB/s)\n",
            "Reading package lists... Done\n"
          ]
        }
      ],
      "source": [
        "import os\n",
        "# Find the latest version of spark 3.0  from http://www-us.apache.org/dist/spark/ and enter as the spark version\n",
        "# For example:\n",
        "spark_version = 'spark-3.0.1'\n",
        "# spark_version = 'spark-3.<spark version>'\n",
        "os.environ['SPARK_VERSION']=spark_version\n",
        "# Install Spark and Java\n",
        "!apt-get update\n",
        "!apt-get install openjdk-11-jdk-headless -qq > /dev/null\n",
        "!wget -q https://archive.apache.org/dist/spark/spark-3.0.1/spark-3.0.1-bin-hadoop3.2.tgz\n",
        "!tar xf $SPARK_VERSION-bin-hadoop3.2.tgz\n",
        "!pip install -q findspark\n",
        "# Set Environment Variables\n",
        "import os\n",
        "os.environ[\"JAVA_HOME\"] = \"/usr/lib/jvm/java-11-openjdk-amd64\"\n",
        "os.environ[\"SPARK_HOME\"] = f\"/content/{spark_version}-bin-hadoop3.2\"\n",
        "# Start a SparkSession\n",
        "import findspark\n",
        "findspark.init()"
      ]
    },
    {
      "cell_type": "code",
      "source": [
        "!wget https://jdbc.postgresql.org/download/postgresql-42.2.9.jar"
      ],
      "metadata": {
        "colab": {
          "base_uri": "https://localhost:8080/"
        },
        "id": "-NoqE-EzwUXP",
        "outputId": "ad733f5d-f3e4-40e2-ecaf-d26a2f39bf5b"
      },
      "execution_count": 2,
      "outputs": [
        {
          "output_type": "stream",
          "name": "stdout",
          "text": [
            "--2022-05-29 21:02:37--  https://jdbc.postgresql.org/download/postgresql-42.2.9.jar\n",
            "Resolving jdbc.postgresql.org (jdbc.postgresql.org)... 72.32.157.228, 2001:4800:3e1:1::228\n",
            "Connecting to jdbc.postgresql.org (jdbc.postgresql.org)|72.32.157.228|:443... connected.\n",
            "HTTP request sent, awaiting response... 200 OK\n",
            "Length: 914037 (893K) [application/java-archive]\n",
            "Saving to: ‘postgresql-42.2.9.jar’\n",
            "\n",
            "postgresql-42.2.9.j 100%[===================>] 892.61K  --.-KB/s    in 0.08s   \n",
            "\n",
            "2022-05-29 21:02:38 (10.4 MB/s) - ‘postgresql-42.2.9.jar’ saved [914037/914037]\n",
            "\n"
          ]
        }
      ]
    },
    {
      "cell_type": "code",
      "source": [
        "from pyspark.sql import SparkSession\n",
        "spark = SparkSession.builder.appName(\"CloudETL\").config(\"spark.driver.extraClassPath\",\"/content/postgresql-42.2.9.jar\").getOrCreate()"
      ],
      "metadata": {
        "id": "M-OjryTCJhj6"
      },
      "execution_count": 3,
      "outputs": []
    },
    {
      "cell_type": "code",
      "source": [
        "#Putting s3 bucket and the data together\n",
        "from pyspark import SparkFiles\n",
        "url = \"https://s3.amazonaws.com/amazon-reviews-pds/tsv/amazon_reviews_us_Video_DVD_v1_00.tsv.gz\"\n",
        "spark.sparkContext.addFile(url)\n",
        "\n",
        "df = spark.read.option('header', 'true').csv(SparkFiles.get(\"amazon_reviews_us_Video_DVD_v1_00.tsv.gz\"), inferSchema=True, sep='\\t', timestampFormat=\"yyyy-mm-dd\")\n",
        "df.show()"
      ],
      "metadata": {
        "colab": {
          "base_uri": "https://localhost:8080/"
        },
        "id": "QX9hJITWX5qk",
        "outputId": "f18df584-194e-40eb-dcee-2743b0a024ec"
      },
      "execution_count": 4,
      "outputs": [
        {
          "output_type": "stream",
          "name": "stdout",
          "text": [
            "+-----------+-----------+--------------+----------+--------------+--------------------+----------------+-----------+-------------+-----------+----+-----------------+--------------------+--------------------+-------------------+\n",
            "|marketplace|customer_id|     review_id|product_id|product_parent|       product_title|product_category|star_rating|helpful_votes|total_votes|vine|verified_purchase|     review_headline|         review_body|        review_date|\n",
            "+-----------+-----------+--------------+----------+--------------+--------------------+----------------+-----------+-------------+-----------+----+-----------------+--------------------+--------------------+-------------------+\n",
            "|         US|   27288431| R33UPQQUZQEM8|B005T4ND06|     400024643|Yoga for Movement...|       Video DVD|          5|            3|          3|   N|                Y|This was a gift f...|This was a gift f...|2015-01-31 00:08:00|\n",
            "|         US|   13722556|R3IKTNQQPD9662|B004EPZ070|     685335564|  Something Borrowed|       Video DVD|          5|            0|          0|   N|                Y|          Five Stars| Teats my heart out.|2015-01-31 00:08:00|\n",
            "|         US|   20381037|R3U27V5QMCP27T|B005S9EKCW|     922008804|Les Miserables (2...|       Video DVD|          5|            1|          1|   N|                Y|        Great movie!|        Great movie.|2015-01-31 00:08:00|\n",
            "|         US|   24852644|R2TOH2QKNK4IOC|B00FC1ZCB4|     326560548|Alien Anthology a...|       Video DVD|          5|            0|          1|   N|                Y|             Amazing|My husband was so...|2015-01-31 00:08:00|\n",
            "|         US|   15556113|R2XQG5NJ59UFMY|B002ZG98Z0|     637495038|  Sex and the City 2|       Video DVD|          5|            0|          0|   N|                Y|          Five Stars|   Love this series.|2015-01-31 00:08:00|\n",
            "|         US|    6132474|R1N1KHBRR4ZTX3|B00X8RONBO|     896602391|When Calls The He...|       Video DVD|          5|            0|          0|   N|                Y|          Five Stars|            love it!|2015-01-31 00:08:00|\n",
            "|         US|   48049524|R3OM9S0TCBP38K|B000CEXFZG|     115883890|Teen Titans - The...|       Video DVD|          5|            0|          0|   N|                Y|               Great|Better than the c...|2015-01-31 00:08:00|\n",
            "|         US|    3282516|R1W4S949ZRCTBW|B00ID8H8EW|     977932459|      Generation War|       Video DVD|          5|            0|          0|   N|                Y|          Five Stars|I really emjoyed ...|2015-01-31 00:08:00|\n",
            "|         US|   51771179|R18JL1NNQAZFV2|B000TGJ8IU|     840084782|Troy  (Director's...|       Video DVD|          5|            0|          0|   N|                Y|          Five Stars|Awesome movie, we...|2015-01-31 00:08:00|\n",
            "|         US|   31816501|R1LP6PR06OPYUX|B00DPMPTDS|     262144920|Faith Aka the Gre...|       Video DVD|          4|            0|          0|   N|                Y|a beautiful fanta...|...a beautiful fa...|2015-01-31 00:08:00|\n",
            "|         US|   16164990| RZKBT035JA0UQ|B00X797LUS|     883589001|   Revenge: Season 4|       Video DVD|          5|            1|          2|   N|                Y|  It's a hit with me|I don't usually w...|2015-01-31 00:08:00|\n",
            "|         US|   33386989|R253N5W74SM7N3|B00C6MXB42|     734735137|YOUNG INDIANA JON...|       Video DVD|          4|            1|          1|   N|                Y|great stuff. I th...|great stuff.  I t...|2015-01-31 00:08:00|\n",
            "|         US|   45486371|R2D5IFTFPHD3RN|B000EZ9084|     821764517|     Survival Island|       Video DVD|          4|            1|          1|   N|                Y|          Four Stars|           very good|2015-01-31 00:08:00|\n",
            "|         US|   14006420|R1CECK3H1URK1G|B000CEXFZG|     115883890|Teen Titans - The...|       Video DVD|          5|            0|          0|   N|                Y|          Five Stars|Kids love the DVD...|2015-01-31 00:08:00|\n",
            "|         US|   23411619|R11MHQRE45204T|B00KXEM6XM|     651533797|     Fargo: Season 1|       Video DVD|          5|            0|          0|   N|                Y|A wonderful cover...|Great news Fargo ...|2015-01-31 00:08:00|\n",
            "|         US|    3202332| RSX9F068J0GXJ|B0036K9CM8|     231498541|Disney Parks: The...|       Video DVD|          5|            0|          0|   N|                Y|We love Disney an...|We love Disney an...|2015-01-31 00:08:00|\n",
            "|         US|   32012808|R1TUMFHZBBOWKL|B00G3HOJZ6|     847624020|Young Detective D...|       Video DVD|          5|            0|          0|   N|                Y|Excellent Movie f...|This is a surpris...|2015-01-31 00:08:00|\n",
            "|         US|   36507765| R8IZ1G1TWGK0E|B00V5E7YR2|     478422254|The Divergent Ser...|       Video DVD|          5|            0|          0|   N|                Y|          Five Stars|          Good movie|2015-01-31 00:08:00|\n",
            "|         US|   13696097|R1CBN0585B7BI4|B005BUA1JY|     700104332|Barney Miller: Th...|       Video DVD|          5|            0|          1|   N|                Y|          Five Stars|This show is a cl...|2015-01-31 00:08:00|\n",
            "|         US|    2190805|R2PJOAZ9I3D8O8|B00YCY46VO|     710263340|Inside Out (Blu-r...|       Video DVD|          5|            2|          2|   N|                N|An Instant Master...|Inside Out revolv...|2015-01-31 00:08:00|\n",
            "+-----------+-----------+--------------+----------+--------------+--------------------+----------------+-----------+-------------+-----------+----+-----------------+--------------------+--------------------+-------------------+\n",
            "only showing top 20 rows\n",
            "\n"
          ]
        }
      ]
    },
    {
      "cell_type": "code",
      "source": [
        "#number of games\n",
        "df.count()"
      ],
      "metadata": {
        "colab": {
          "base_uri": "https://localhost:8080/"
        },
        "id": "gJzPHndlYQa9",
        "outputId": "b43780b3-e3a7-43fd-a59a-a176968c0106"
      },
      "execution_count": 5,
      "outputs": [
        {
          "output_type": "execute_result",
          "data": {
            "text/plain": [
              "5069140"
            ]
          },
          "metadata": {},
          "execution_count": 5
        }
      ]
    },
    {
      "cell_type": "code",
      "source": [
        "#removed unnecessary points\n",
        "df = df.dropna()\n",
        "print(df.count())"
      ],
      "metadata": {
        "colab": {
          "base_uri": "https://localhost:8080/"
        },
        "id": "8yrcleWQYWwc",
        "outputId": "516c4354-d198-4e2f-9d9b-45e52964b101"
      },
      "execution_count": 6,
      "outputs": [
        {
          "output_type": "stream",
          "name": "stdout",
          "text": [
            "5068421\n"
          ]
        }
      ]
    },
    {
      "cell_type": "code",
      "source": [
        "#review table\n",
        "reviewdf = df.select([\"review_id\",\"customer_id\",\"product_id\", \"product_parent\",\"review_date\"])\n",
        "reviewdf.show(15)"
      ],
      "metadata": {
        "id": "eSArBANiYmtW"
      },
      "execution_count": null,
      "outputs": []
    },
    {
      "cell_type": "code",
      "source": [
        "reviewdf.printSchema()"
      ],
      "metadata": {
        "id": "BSho7sFNYyAS"
      },
      "execution_count": null,
      "outputs": []
    },
    {
      "cell_type": "code",
      "source": [
        "#product table \n",
        "productdf = df.select([\"product_id\",\"product_title\"])\n",
        "productdf = productdf.dropDuplicates()\n",
        "productdf.show()"
      ],
      "metadata": {
        "colab": {
          "base_uri": "https://localhost:8080/"
        },
        "id": "HXaaFPvJY9q1",
        "outputId": "4083e445-9f03-4b02-9863-6c507cd33135"
      },
      "execution_count": 9,
      "outputs": [
        {
          "output_type": "stream",
          "name": "stdout",
          "text": [
            "+----------+--------------------+\n",
            "|product_id|       product_title|\n",
            "+----------+--------------------+\n",
            "|B001DE29SS|Chaplin (15th Ann...|\n",
            "|B00ZJ2GL6G|Jurassic World 3D...|\n",
            "|B00T5DM876|Pretty Little Lia...|\n",
            "|B004VW4V76|         Lebanon, PA|\n",
            "|B009D4SFEC|Murdoch Mysteries...|\n",
            "|B000GG4Y5K|Numb3rs - The Com...|\n",
            "|B00383XZP8|TCM Spotlight: Ch...|\n",
            "|B00I9MS86O|Breaking Bad: The...|\n",
            "|B00005K3O4|Killer Klowns Fro...|\n",
            "|B00BD6KETC|     Psych: Season 7|\n",
            "|B00WHZZBTQ|Heaven Adores You...|\n",
            "|B000092Q5C|Remo Williams - T...|\n",
            "|B004AXPWH4|10 MINUTESOLUTION...|\n",
            "|B00FEP9PQG|Boardwalk Empire:...|\n",
            "|B0002F6BJW|Fractured Flicker...|\n",
            "|B0007LXP7W|The A-Team - Seas...|\n",
            "|B005ET4NHI|  Where The Boys Are|\n",
            "|B005EBOSO4|Muscle Energy Tec...|\n",
            "|B003V5CTKU|Black Label Socie...|\n",
            "|B000087F6L|      Fahrenheit 451|\n",
            "+----------+--------------------+\n",
            "only showing top 20 rows\n",
            "\n"
          ]
        }
      ]
    },
    {
      "cell_type": "code",
      "source": [
        "#grouping by customers and finding count of individual customers \n",
        "from pyspark.sql.functions import desc\n",
        "\n",
        "customersdf = df.groupby(\"customer_id\").agg({\"customer_id\":\"count\"})\n",
        "customersdf = customersdf.orderBy(desc(\"count(customer_id)\"))\n",
        "customersdf = customersdf.withColumnRenamed(\"count(customer_id)\", \"customer_count\") \n",
        "customersdf.show()"
      ],
      "metadata": {
        "colab": {
          "base_uri": "https://localhost:8080/"
        },
        "id": "12eM87PBZGBG",
        "outputId": "c12402d1-5bba-4403-c131-63f419463405"
      },
      "execution_count": 10,
      "outputs": [
        {
          "output_type": "stream",
          "name": "stdout",
          "text": [
            "+-----------+--------------+\n",
            "|customer_id|customer_count|\n",
            "+-----------+--------------+\n",
            "|   43430756|          3582|\n",
            "|   18116317|          2985|\n",
            "|   52287429|          2746|\n",
            "|   52496677|          2649|\n",
            "|   51110953|          2624|\n",
            "|   19792742|          2495|\n",
            "|   20018062|          2492|\n",
            "|   50068216|          2379|\n",
            "|   14539589|          2269|\n",
            "|   50881246|          2104|\n",
            "|   12797924|          1753|\n",
            "|   50913245|          1749|\n",
            "|   49382242|          1729|\n",
            "|   23133606|          1729|\n",
            "|   51105456|          1695|\n",
            "|   38002140|          1689|\n",
            "|   45838740|          1618|\n",
            "|   21779173|          1501|\n",
            "|   49837360|          1499|\n",
            "|   17590934|          1462|\n",
            "+-----------+--------------+\n",
            "only showing top 20 rows\n",
            "\n"
          ]
        }
      ]
    },
    {
      "cell_type": "code",
      "source": [
        "customersdf.printSchema()"
      ],
      "metadata": {
        "id": "qlYVijJGZmQ0"
      },
      "execution_count": null,
      "outputs": []
    },
    {
      "cell_type": "code",
      "source": [
        "#vine table \n",
        "from pyspark.sql.functions import col\n",
        "\n",
        "vinedf = df.select([\"review_id\",\"star_rating\",\"helpful_votes\", \"total_votes\",\"vine\"])\n",
        "\n",
        "\n",
        "#vinedf = vinedf.filter(col(\"vine\")  == \"Y\")\n",
        "vinedf.show(50)\n"
      ],
      "metadata": {
        "colab": {
          "base_uri": "https://localhost:8080/"
        },
        "id": "8OTt2ELyZqs1",
        "outputId": "62808844-94a7-452c-e160-f15a68075ae4"
      },
      "execution_count": 12,
      "outputs": [
        {
          "output_type": "stream",
          "name": "stdout",
          "text": [
            "+--------------+-----------+-------------+-----------+----+\n",
            "|     review_id|star_rating|helpful_votes|total_votes|vine|\n",
            "+--------------+-----------+-------------+-----------+----+\n",
            "| R33UPQQUZQEM8|          5|            3|          3|   N|\n",
            "|R3IKTNQQPD9662|          5|            0|          0|   N|\n",
            "|R3U27V5QMCP27T|          5|            1|          1|   N|\n",
            "|R2TOH2QKNK4IOC|          5|            0|          1|   N|\n",
            "|R2XQG5NJ59UFMY|          5|            0|          0|   N|\n",
            "|R1N1KHBRR4ZTX3|          5|            0|          0|   N|\n",
            "|R3OM9S0TCBP38K|          5|            0|          0|   N|\n",
            "|R1W4S949ZRCTBW|          5|            0|          0|   N|\n",
            "|R18JL1NNQAZFV2|          5|            0|          0|   N|\n",
            "|R1LP6PR06OPYUX|          4|            0|          0|   N|\n",
            "| RZKBT035JA0UQ|          5|            1|          2|   N|\n",
            "|R253N5W74SM7N3|          4|            1|          1|   N|\n",
            "|R2D5IFTFPHD3RN|          4|            1|          1|   N|\n",
            "|R1CECK3H1URK1G|          5|            0|          0|   N|\n",
            "|R11MHQRE45204T|          5|            0|          0|   N|\n",
            "| RSX9F068J0GXJ|          5|            0|          0|   N|\n",
            "|R1TUMFHZBBOWKL|          5|            0|          0|   N|\n",
            "| R8IZ1G1TWGK0E|          5|            0|          0|   N|\n",
            "|R1CBN0585B7BI4|          5|            0|          1|   N|\n",
            "|R2PJOAZ9I3D8O8|          5|            2|          2|   N|\n",
            "|R10FZAIBACR268|          5|            0|          0|   N|\n",
            "|R1FJDE40X2LSQI|          5|            0|          0|   N|\n",
            "| RNOKAG1GI23V3|          5|            0|          0|   N|\n",
            "| R6O9WBB6PNLKZ|          5|            1|          1|   N|\n",
            "|R3MVO7YEREQ8TU|          5|            4|          5|   N|\n",
            "|R1LLV6EZB9LDF6|          1|            0|          1|   N|\n",
            "|R1HRNMUA5WCV6Z|          4|            0|          0|   N|\n",
            "| RVFXM0M88NJ8L|          5|            0|          1|   N|\n",
            "|R2FVLX1M8W4EG0|          4|            0|          0|   N|\n",
            "|R2AK7ZHCQ34A63|          5|            2|          2|   N|\n",
            "|R2T0WWZP2SXKY2|          4|            0|          0|   N|\n",
            "|R3FLHD0FL42ZQE|          5|            0|          0|   N|\n",
            "|  RJAK03GYNBJT|          5|            0|          0|   N|\n",
            "| R6MUTGXQ8NO2J|          5|            0|          1|   N|\n",
            "|R1Y9R3JS0OY5IN|          5|            0|          0|   N|\n",
            "|R1SHXWHL5RK7GQ|          5|            1|          4|   N|\n",
            "|R3LDER07PPGC97|          5|            0|          1|   N|\n",
            "|R2SE6EJNZKZGEW|          4|            0|          0|   N|\n",
            "|R1XOVGJTNV6OKL|          5|            0|          1|   N|\n",
            "|R3RPSFMKJT49G0|          3|            1|          4|   N|\n",
            "| RE3NWZUW3HMNL|          5|            1|          1|   N|\n",
            "|R13A45JYX3X1JZ|          5|            0|          0|   N|\n",
            "| RW8YAH2I5C3B3|          2|            0|          1|   N|\n",
            "|R132Q1O308PCXK|          5|            2|          2|   N|\n",
            "| RMQK0XOD8YYBN|          5|            0|          1|   N|\n",
            "|R1E3UYW371XLR3|          5|            0|          0|   N|\n",
            "|R2QQ2TQLEB3O0P|          5|            0|          0|   N|\n",
            "| RPUG8JLPBBKYF|          5|            0|          0|   N|\n",
            "|R3G6C1PUIUI5UX|          5|            0|          0|   N|\n",
            "| RB9IGNX70HZFE|          5|            0|          1|   N|\n",
            "+--------------+-----------+-------------+-----------+----+\n",
            "only showing top 50 rows\n",
            "\n"
          ]
        }
      ]
    },
    {
      "cell_type": "code",
      "source": [
        "vinedf.printSchema()"
      ],
      "metadata": {
        "colab": {
          "base_uri": "https://localhost:8080/"
        },
        "id": "AqMFuRRWZ1MN",
        "outputId": "b2476aad-1ac9-422e-a600-26fd67d06710"
      },
      "execution_count": 13,
      "outputs": [
        {
          "output_type": "stream",
          "name": "stdout",
          "text": [
            "root\n",
            " |-- review_id: string (nullable = true)\n",
            " |-- star_rating: integer (nullable = true)\n",
            " |-- helpful_votes: integer (nullable = true)\n",
            " |-- total_votes: integer (nullable = true)\n",
            " |-- vine: string (nullable = true)\n",
            "\n"
          ]
        }
      ]
    },
    {
      "cell_type": "code",
      "source": [
        "#connecting to AWS\n",
        "mode=\"append\"\n",
        "jdbc_url = \"jdbc:postgresql://xxxx/dvd_db\"\n",
        "config = {\"user\": \"xxxx\",\n",
        "          \"password\": \"xxxx\",\n",
        "          \"driver\":\"org.postgresql.Driver\"}\n"
      ],
      "metadata": {
        "id": "jMIxX6KqZ7A5"
      },
      "execution_count": 14,
      "outputs": []
    },
    {
      "cell_type": "code",
      "source": [
        "reviewdf.write.jdbc(url= jdbc_url, table=\"review_id_table\", mode=mode, properties=config)"
      ],
      "metadata": {
        "id": "rNL9cRCOcJEs"
      },
      "execution_count": 15,
      "outputs": []
    },
    {
      "cell_type": "code",
      "source": [
        "productdf.write.jdbc(url=jdbc_url, table=\"products\", mode=mode, properties=config)"
      ],
      "metadata": {
        "id": "RMEkZCPFcMph"
      },
      "execution_count": 16,
      "outputs": []
    },
    {
      "cell_type": "markdown",
      "source": [
        ""
      ],
      "metadata": {
        "id": "G2Y7PisK4e3g"
      }
    },
    {
      "cell_type": "code",
      "source": [
        "customersdf.write.jdbc(url=jdbc_url, table=\"customers\", mode=mode, properties=config)"
      ],
      "metadata": {
        "id": "kKYoAn9acRL6"
      },
      "execution_count": 17,
      "outputs": []
    },
    {
      "cell_type": "code",
      "source": [
        "vinedf.write.jdbc(url=jdbc_url, table=\"vine_table\", mode=mode, properties=config)"
      ],
      "metadata": {
        "id": "LBC_9sMwcXAs"
      },
      "execution_count": null,
      "outputs": []
    },
    {
      "cell_type": "markdown",
      "source": [
        ""
      ],
      "metadata": {
        "id": "o_1m8IvOJWT-"
      }
    }
  ],
  "metadata": {
    "language_info": {
      "name": "python"
    },
    "orig_nbformat": 4,
    "colab": {
      "name": "analysis2.ipynb",
      "provenance": [],
      "collapsed_sections": [],
      "include_colab_link": true
    },
    "kernelspec": {
      "name": "python3",
      "display_name": "Python 3"
    }
  },
  "nbformat": 4,
  "nbformat_minor": 0
}